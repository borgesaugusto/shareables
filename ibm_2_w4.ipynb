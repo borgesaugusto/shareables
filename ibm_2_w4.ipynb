{
  "nbformat": 4,
  "nbformat_minor": 0,
  "metadata": {
    "colab": {
      "provenance": []
    },
    "kernelspec": {
      "name": "python3",
      "display_name": "Python 3"
    },
    "language_info": {
      "name": "python"
    }
  },
  "cells": [
    {
      "cell_type": "markdown",
      "source": [
        "# My Jupyter Notebook on IBM Watson Studio"
      ],
      "metadata": {
        "id": "P9AIBCRQjqIM"
      }
    },
    {
      "cell_type": "markdown",
      "source": [
        "**Augusto**\n",
        "\n",
        "Researcher"
      ],
      "metadata": {
        "id": "VQUKcQFtjqN-"
      }
    },
    {
      "cell_type": "markdown",
      "source": [
        "*I am interested in data science because I want to make be able to effectively curate and interpret data, to present it to relevant stakeholders*"
      ],
      "metadata": {
        "id": "6BIQ3vK8kIbH"
      }
    },
    {
      "cell_type": "markdown",
      "source": [
        "### My code will create two variables (a and b) and sum them"
      ],
      "metadata": {
        "id": "B3rDVQOnksm0"
      }
    },
    {
      "cell_type": "code",
      "source": [
        "a = 1\n",
        "b = 2\n",
        "a + b"
      ],
      "metadata": {
        "colab": {
          "base_uri": "https://localhost:8080/"
        },
        "id": "iTzo2SyqknP8",
        "outputId": "808a90fc-0a78-4ae6-d771-d5e151d82a0d"
      },
      "execution_count": 3,
      "outputs": [
        {
          "output_type": "execute_result",
          "data": {
            "text/plain": [
              "3"
            ]
          },
          "metadata": {},
          "execution_count": 3
        }
      ]
    },
    {
      "cell_type": "markdown",
      "source": [
        "- Bulleted \n",
        "- List\n",
        "\n",
        "---\n",
        "1. Numbered\n",
        "2. List\n",
        "\n",
        "\n",
        "\n",
        "```python\n",
        "# Syntax highlight\n",
        "a = 1\n",
        "b = 2\n",
        "a + b\n",
        "```\n",
        "\n",
        "| This is      | a table |\n",
        "| ----------- | ----------- |\n",
        "| entry 1 | entry 3|\n",
        "| entry 2 | entry 4 |\n",
        "\n",
        "\n",
        "~Striked text~\n",
        "\n"
      ],
      "metadata": {
        "id": "bpCMvg-1lE8Y"
      }
    }
  ]
}